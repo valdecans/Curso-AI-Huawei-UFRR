{
 "cells": [
  {
   "cell_type": "markdown",
   "metadata": {},
   "source": [
    "## 1.7. Tipo de Dados - Conjunto"
   ]
  },
  {
   "cell_type": "markdown",
   "metadata": {},
   "source": [
    "Operações comuns em conjuntos:"
   ]
  },
  {
   "cell_type": "code",
   "execution_count": 1,
   "metadata": {},
   "outputs": [
    {
     "name": "stdout",
     "output_type": "stream",
     "text": [
      "False\n",
      "{'Príncipe', 'Data', 'Técnicos'}\n",
      "3\n",
      "{'Príncipe', 'Técnicos'}\n",
      "[1, 3, 5]\n"
     ]
    }
   ],
   "source": [
    "sample_set = {'Príncipe', 'Técnicos'}\n",
    "\n",
    "print('Data' in sample_set) # A saída é False. in é usado para verificar se um elemento existe no conjunto.\n",
    "\n",
    "# set.add(obj): Adiciona um elemento a um conjunto. Se o elemento a ser adicionado já existir no conjunto, a operação não é executada.\n",
    "sample_set.add('Data') # Adiciona o elemento Data ao conjunto.\n",
    "print(sample_set) # Saída: {'Prince', 'Techs', 'Data'}\n",
    "print(len(sample_set)) # Saída: 3\n",
    "\n",
    "# set.remove(obj): Remove um elemento especificado de um conjunto.\n",
    "sample_set.remove('Data') # Exclui o elemento Data.\n",
    "print(sample_set) # {'Príncipe', 'Tecnologias'}\n",
    "\n",
    "lista2 = [1,3,1,5,3]\n",
    "print(list(set(lista2))) # A saída é [1,3,5]. A singularidade dos elementos do conjunto é usado para desduplicar a lista.\n",
    "sample_set = frozenset(sample_set)# Conjunto invariável."
   ]
  }
 ],
 "metadata": {
  "kernelspec": {
   "display_name": "Python 3",
   "language": "python",
   "name": "python3"
  },
  "language_info": {
   "codemirror_mode": {
    "name": "ipython",
    "version": 3
   },
   "file_extension": ".py",
   "mimetype": "text/x-python",
   "name": "python",
   "nbconvert_exporter": "python",
   "pygments_lexer": "ipython3",
   "version": "3.12.1"
  }
 },
 "nbformat": 4,
 "nbformat_minor": 2
}
