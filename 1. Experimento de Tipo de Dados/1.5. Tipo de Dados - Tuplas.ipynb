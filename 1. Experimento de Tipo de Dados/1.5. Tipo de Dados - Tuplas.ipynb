{
 "cells": [
  {
   "cell_type": "markdown",
   "metadata": {},
   "source": [
    "## 1.5. Tipo de Dados - Tuplas"
   ]
  },
  {
   "cell_type": "markdown",
   "metadata": {},
   "source": [
    "Operações comuns em tuplas:"
   ]
  },
  {
   "cell_type": "code",
   "execution_count": 1,
   "metadata": {},
   "outputs": [
    {
     "name": "stdout",
     "output_type": "stream",
     "text": [
      "(1, 2, 3, 4, 5)\n"
     ]
    },
    {
     "ename": "TypeError",
     "evalue": "'tuple' object does not support item assignment",
     "output_type": "error",
     "traceback": [
      "\u001b[1;31m---------------------------------------------------------------------------\u001b[0m",
      "\u001b[1;31mTypeError\u001b[0m                                 Traceback (most recent call last)",
      "Cell \u001b[1;32mIn[1], line 5\u001b[0m\n\u001b[0;32m      3\u001b[0m t\u001b[38;5;241m=\u001b[39m(\u001b[38;5;241m42\u001b[39m,) \u001b[38;5;66;03m# Uma tupla com apenas um elemento, que é diferente de um número.\u001b[39;00m\n\u001b[0;32m      4\u001b[0m tuple1 \u001b[38;5;241m=\u001b[39m (\u001b[38;5;241m12\u001b[39m,\u001b[38;5;241m45\u001b[39m,\u001b[38;5;241m32\u001b[39m,\u001b[38;5;241m55\u001b[39m,[\u001b[38;5;241m1\u001b[39m,\u001b[38;5;241m0\u001b[39m,\u001b[38;5;241m3\u001b[39m]) \u001b[38;5;66;03m# Crie uma tupla.\u001b[39;00m\n\u001b[1;32m----> 5\u001b[0m \u001b[43mtuple1\u001b[49m\u001b[43m[\u001b[49m\u001b[38;5;241;43m0\u001b[39;49m\u001b[43m]\u001b[49m \u001b[38;5;241m=\u001b[39m \u001b[38;5;124m\"\u001b[39m\u001b[38;5;124mgood\u001b[39m\u001b[38;5;124m\"\u001b[39m \u001b[38;5;66;03m# O programa está termina com erro, a tupla não pode ser alterada.\u001b[39;00m\n\u001b[0;32m      6\u001b[0m tuple1[\u001b[38;5;241m4\u001b[39m][\u001b[38;5;241m0\u001b[39m] \u001b[38;5;241m=\u001b[39m \u001b[38;5;241m2\u001b[39m \u001b[38;5;66;03m# Elementos que podem ser alterados em uma tupla são alteráveis. Nesse caso a lista na tupla\u001b[39;00m\n\u001b[0;32m      7\u001b[0m \u001b[38;5;28mprint\u001b[39m(tuple1) \u001b[38;5;66;03m# (12,45,32,55,[2,0,3])\u001b[39;00m\n",
      "\u001b[1;31mTypeError\u001b[0m: 'tuple' object does not support item assignment"
     ]
    }
   ],
   "source": [
    "T=(1,2,3) # Crie uma tupla.\n",
    "print(T+(4,5)) #Tuplas são combinadas. A saída é (1, 2, 3, 4, 5).\n",
    "t=(42,) # Uma tupla com apenas um elemento, que é diferente de um número.\n",
    "tuple1 = (12,45,32,55,[1,0,3]) # Crie uma tupla.\n",
    "tuple1[0] = \"good\" # O programa está termina com erro, a tupla não pode ser alterada.\n",
    "tuple1[4][0] = 2 # Elementos que podem ser alterados em uma tupla são alteráveis. Nesse caso a lista na tupla\n",
    "print(tuple1) # (12,45,32,55,[2,0,3])"
   ]
  }
 ],
 "metadata": {
  "kernelspec": {
   "display_name": "Python 3",
   "language": "python",
   "name": "python3"
  },
  "language_info": {
   "codemirror_mode": {
    "name": "ipython",
    "version": 3
   },
   "file_extension": ".py",
   "mimetype": "text/x-python",
   "name": "python",
   "nbconvert_exporter": "python",
   "pygments_lexer": "ipython3",
   "version": "3.12.1"
  }
 },
 "nbformat": 4,
 "nbformat_minor": 2
}
