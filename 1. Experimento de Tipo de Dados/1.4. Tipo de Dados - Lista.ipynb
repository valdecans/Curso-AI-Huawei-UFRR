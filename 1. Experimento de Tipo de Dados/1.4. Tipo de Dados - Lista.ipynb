{
 "cells": [
  {
   "cell_type": "markdown",
   "metadata": {},
   "source": [
    "## 1.4. Tipo de Dados - Lista"
   ]
  },
  {
   "cell_type": "markdown",
   "metadata": {},
   "source": [
    "Operações comuns em listas:"
   ]
  },
  {
   "cell_type": "code",
   "execution_count": 1,
   "metadata": {},
   "outputs": [
    {
     "name": "stdout",
     "output_type": "stream",
     "text": [
      "['gato', 'cachorro', 'macaco', 'peixe']\n",
      "['gato', 'cachorro', 'macaco']\n",
      "['gato', 'peixe', 'cachorro', 'macaco']\n",
      "['gato', 'cachorro', 'macaco']\n",
      "(0, 'gato')\n",
      "(1, 'cachorro')\n",
      "(2, 'macaco')\n"
     ]
    }
   ],
   "source": [
    "animals = ['gato', 'cachorro', 'macaco']\n",
    "\n",
    "# list.append(obj): Adicione um novo objeto ao final da lista.\n",
    "animals.append('peixe') # Acrescenta um elemento.\n",
    "print(animals) # Saída: ['gato', 'cachorro', 'macaco', 'peixe']\n",
    "\n",
    "# list.remove(obj): Remove a primeira correspondência de um valor na lista.\n",
    "animals.remove ('peixe') # Exclui o elemento peixe.\n",
    "print(animals) # Saída: ['gato', 'cachorro', 'macaco']\n",
    "\n",
    "# list.insert(index, obj): Insere um objeto especificado em uma posição especificada na lista. O índice indica a posição.\n",
    "animals.insert (1, 'peixe') # Insere o elemento fish no subscrito 1.\n",
    "print(animals) # Saída: ['gato', 'peixe', 'cachorro', 'macaco']\n",
    "\n",
    "# list.pop([index=-1]): Remove o elemento (o último elemento por padrão) correspondente ao indice na lista.\n",
    "animals.pop(1) # Exclua o elemento cujo indice em animals é 1.\n",
    "print(animals) # Saída: ['gato', 'cachorro', 'macaco']\n",
    "\n",
    "# Percorra e obtenha os elementos e índices.\n",
    "# enumerate(sequence): Retorna uma sequência de índice que consiste em um objeto de dados que pode ser percorrido\n",
    "#e liste os dados e indices. Esta função geralmente é usada no loop for.\n",
    "for i in enumerate(animals):\n",
    "  print(i) # Índice do elemento na lista e seu valor (tupla)\n",
    "  #print(i[0]) # testar"
   ]
  },
  {
   "cell_type": "code",
   "execution_count": 2,
   "metadata": {},
   "outputs": [
    {
     "name": "stdout",
     "output_type": "stream",
     "text": [
      "['gatogato', 'cachorrocachorro', 'macacomacaco']\n",
      "[12, 32, 45, 55]\n",
      "[55, 45, 32, 12]\n"
     ]
    }
   ],
   "source": [
    "# Derivação de lista.\n",
    "quadrados = [x*2 for x in animals] # Gera uma lista de elementos que cumprem as regras em lotes.\n",
    "print(quadrados) #['catcat', 'dogdog', 'monkeymonkey']\n",
    "lista1 = [12,45,32,55]\n",
    "\n",
    "# list.sort(cmp=None, key=None, reverse=False): O parâmetro cmp é um parâmetro opcional. Se este\n",
    "#parâmetro é especificado, o método usa esse parâmetro é usado para classificação. Chave é um elemento usado para\n",
    "#comparação. inverter indica a regra de classificação e False indica a ordem crescente.\n",
    "lista1.sort() # Classifica a lista.\n",
    "print(lista1) # Saída: [12,32,45,55]\n",
    "\n",
    "# list.reverse(): Elemento na lista inversa.\n",
    "lista1.reverse() # Inverte a lista.\n",
    "print(lista1) # Saída: [55,45,32,12]"
   ]
  }
 ],
 "metadata": {
  "kernelspec": {
   "display_name": "Python 3",
   "language": "python",
   "name": "python3"
  },
  "language_info": {
   "codemirror_mode": {
    "name": "ipython",
    "version": 3
   },
   "file_extension": ".py",
   "mimetype": "text/x-python",
   "name": "python",
   "nbconvert_exporter": "python",
   "pygments_lexer": "ipython3",
   "version": "3.12.1"
  }
 },
 "nbformat": 4,
 "nbformat_minor": 2
}
