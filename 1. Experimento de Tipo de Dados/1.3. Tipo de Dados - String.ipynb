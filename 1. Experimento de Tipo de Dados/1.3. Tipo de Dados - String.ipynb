{
 "cells": [
  {
   "cell_type": "markdown",
   "metadata": {},
   "source": [
    "## 1.3. Tipo de Dados - String"
   ]
  },
  {
   "cell_type": "markdown",
   "metadata": {},
   "source": [
    "### Passo 1 - Operações básicas em strings:"
   ]
  },
  {
   "cell_type": "code",
   "execution_count": 1,
   "metadata": {},
   "outputs": [
    {
     "name": "stdout",
     "output_type": "stream",
     "text": [
      "6\n",
      "p y n\n",
      "python 1 pythonpython\n"
     ]
    }
   ],
   "source": [
    "S = 'python'              # Atribui o valor \"python\" à variável S.\n",
    "\n",
    "print(len(S))             # len(obj): Retorna o comprimento do objeto. Saída: 6\n",
    "print(S[0], S[1], S[-1])  # A saída é p y n. Os elementos são obtidos por índice.\n",
    "print(S+' 1', S*2)        # A saída é python1 pythonpython, que indica concatenação e duplicação."
   ]
  },
  {
   "cell_type": "markdown",
   "metadata": {},
   "source": [
    "### Passo 2 - Imutabilidade de strings:"
   ]
  },
  {
   "cell_type": "code",
   "execution_count": 2,
   "metadata": {},
   "outputs": [
    {
     "ename": "TypeError",
     "evalue": "'str' object does not support item assignment",
     "output_type": "error",
     "traceback": [
      "\u001b[1;31m---------------------------------------------------------------------------\u001b[0m",
      "\u001b[1;31mTypeError\u001b[0m                                 Traceback (most recent call last)",
      "Cell \u001b[1;32mIn[2], line 2\u001b[0m\n\u001b[0;32m      1\u001b[0m S \u001b[38;5;241m=\u001b[39m \u001b[38;5;124m'\u001b[39m\u001b[38;5;124mpython\u001b[39m\u001b[38;5;124m'\u001b[39m                  \u001b[38;5;66;03m# Atribui o valor \"python\" à variável S.\u001b[39;00m\n\u001b[1;32m----> 2\u001b[0m \u001b[43mS\u001b[49m\u001b[43m[\u001b[49m\u001b[38;5;241;43m0\u001b[39;49m\u001b[43m]\u001b[49m \u001b[38;5;241m=\u001b[39m \u001b[38;5;124m'\u001b[39m\u001b[38;5;124mZ\u001b[39m\u001b[38;5;124m'\u001b[39m                    \u001b[38;5;66;03m# O programa termina com erro.\u001b[39;00m\n\u001b[0;32m      3\u001b[0m S1 \u001b[38;5;241m=\u001b[39m\u001b[38;5;124m'\u001b[39m\u001b[38;5;124mZ\u001b[39m\u001b[38;5;124m'\u001b[39m\u001b[38;5;241m+\u001b[39mS[\u001b[38;5;241m1\u001b[39m:]                 \u001b[38;5;66;03m# Nova string Zython é gerada e atribuída a S1.\u001b[39;00m\n\u001b[0;32m      4\u001b[0m \u001b[38;5;28mprint\u001b[39m(\u001b[38;5;124m\"\u001b[39m\u001b[38;5;124mS:\u001b[39m\u001b[38;5;132;01m%s\u001b[39;00m\u001b[38;5;124m, S1:\u001b[39m\u001b[38;5;132;01m%s\u001b[39;00m\u001b[38;5;124m\"\u001b[39m\u001b[38;5;241m%\u001b[39m(S, S1))  \u001b[38;5;66;03m# Saída: S:python, S1:Zython\u001b[39;00m\n",
      "\u001b[1;31mTypeError\u001b[0m: 'str' object does not support item assignment"
     ]
    }
   ],
   "source": [
    "S = 'python'                  # Atribui o valor \"python\" à variável S.\n",
    "S[0] = 'Z'                    # O programa termina com erro.\n",
    "S1 ='Z'+S[1:]                 # Nova string Zython é gerada e atribuída a S1.\n",
    "print(\"S:%s, S1:%s\"%(S, S1))  # Saída: S:python, S1:Zython"
   ]
  },
  {
   "cell_type": "markdown",
   "metadata": {},
   "source": [
    "### Passo 3 - Operações comuns em strings:"
   ]
  },
  {
   "cell_type": "code",
   "execution_count": 1,
   "metadata": {},
   "outputs": [
    {
     "name": "stdout",
     "output_type": "stream",
     "text": [
      "['pyt', 'on']\n",
      "PYthon\n",
      "PYTHON\n",
      "python\n",
      "aa,bb,ccc,dd\n",
      "\n",
      " life   is   short \n",
      "hello world 12\n"
     ]
    }
   ],
   "source": [
    "# Atribui o valor \"python\" à variável S.\n",
    "S = \"python\"\n",
    "\n",
    "# str.split(str=\"\", num=-1): A string é dividida por separador. Se o parâmetro num tiver um valor, divida\n",
    "#a string em substrings num+1. O valor -1 indica que todas as strings estão divididas.\n",
    "print(S.split('h'))         # A saída é ['pyt','on']. A string é dividida por h.\n",
    "\n",
    "# str.replace(old, new[, max]): Uma string gerada após a string antiga ser substituída pela nova string é retornado.\n",
    "# Se o terceiro parâmetro max for especificado, o número de vezes que a string antiga será substituída\n",
    "#com a nova string não pode exceder o valor de max.\n",
    "print(S.replace('py','PY')) # Na string, py é substituído por PY.\n",
    "\n",
    "# str.upper(): Retorna o valor após as letras minúsculas serem convertidas em letras maiúsculas.\n",
    "print(S.upper()) # PYTHON\n",
    "\n",
    "# str.lower(): Retorna o valor após as letras maiúsculas serem convertidas em letras minúsculas.\n",
    "print('PYTHON'.lower()) # A saída é python porque todas as letras maiúsculas são convertidos para letras minúsculas.\n",
    "\n",
    "line= 'aa,bb,ccc,dd\\n' # \\n é um caractere de nova linha.\n",
    "print(line)            # Saída: aa,bb,ccc,dd. Note a linha adicional impressa.\n",
    "\n",
    "\n",
    "# str.join(sequence): sequência indica uma sequência a ser unida. Na saída, a nova string\n",
    "#gerado após os elementos na sequência de junção de caracteres especificada serem retornados.\n",
    "print(' '.join([' life ',' is ',' short '])) # A saída é que a vida é curta. A função de junção é usada para concatenar strings.\n",
    "\n",
    "hw12= '%s %s %d' % ('hello', 'world', 12) # Formate a string.\n",
    "\n",
    "print(hw12) # Saída: hello world  12"
   ]
  }
 ],
 "metadata": {
  "kernelspec": {
   "display_name": "Python 3",
   "language": "python",
   "name": "python3"
  },
  "language_info": {
   "codemirror_mode": {
    "name": "ipython",
    "version": 3
   },
   "file_extension": ".py",
   "mimetype": "text/x-python",
   "name": "python",
   "nbconvert_exporter": "python",
   "pygments_lexer": "ipython3",
   "version": "3.12.1"
  }
 },
 "nbformat": 4,
 "nbformat_minor": 2
}
