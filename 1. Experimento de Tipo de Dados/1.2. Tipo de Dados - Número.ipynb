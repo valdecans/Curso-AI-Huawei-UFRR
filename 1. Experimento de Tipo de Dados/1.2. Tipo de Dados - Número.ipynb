{
 "cells": [
  {
   "cell_type": "markdown",
   "metadata": {},
   "source": [
    "## 1.2. Tipo de Dados - Número"
   ]
  },
  {
   "cell_type": "markdown",
   "metadata": {},
   "source": [
    "Você precisa estar familiarizado com as operações básicas de números em Python.\n",
    "Observe que operações booleano Python usam as palavras-chave e/ou/não em vez do operador."
   ]
  },
  {
   "cell_type": "code",
   "execution_count": 1,
   "metadata": {},
   "outputs": [
    {
     "name": "stdout",
     "output_type": "stream",
     "text": [
      "1\n",
      "False\n",
      "2\n",
      "0\n",
      "9\n",
      "6.6\n"
     ]
    }
   ],
   "source": [
    "print(True+False)      # A saída é 1. Por padrão, True indica 1 e False indica 0.\n",
    "print(True and False)  # Se True for exibido, insira \"ou\" ou execute a operação OR.\n",
    "print(5//2)            # A saída é 2 e // é o operador de arredondamento.\n",
    "print(5%1)             # A saída é 1 e % é o operador de módulo.\n",
    "print(3**2)            # A saída é 9 e ** indica a operação de energia.\n",
    "print(5+1.6)           # A saída é 6.6. Por padrão, a soma dos números de diferentes precisões é o número do tipo de precisão mais alta."
   ]
  }
 ],
 "metadata": {
  "kernelspec": {
   "display_name": "Python 3",
   "language": "python",
   "name": "python3"
  },
  "language_info": {
   "codemirror_mode": {
    "name": "ipython",
    "version": 3
   },
   "file_extension": ".py",
   "mimetype": "text/x-python",
   "name": "python",
   "nbconvert_exporter": "python",
   "pygments_lexer": "ipython3",
   "version": "3.12.1"
  }
 },
 "nbformat": 4,
 "nbformat_minor": 2
}
