{
 "cells": [
  {
   "cell_type": "markdown",
   "metadata": {},
   "source": [
    "## 1.6. Tipo de Dados - Dicionário"
   ]
  },
  {
   "cell_type": "markdown",
   "metadata": {},
   "source": [
    "Operações comuns em dicionários:"
   ]
  },
  {
   "cell_type": "code",
   "execution_count": 1,
   "metadata": {},
   "outputs": [
    {
     "name": "stdout",
     "output_type": "stream",
     "text": [
      "{'comida': 'Spam', 'quantidade': 4, 'cor': 'rosa'}\n",
      "{'comida': 'Spam', 'quantidade': 4, 'cor': 'rosa'}\n",
      "{'comida': 'Spam', 'quantidade': '4', 'cor': 'rosa'}\n",
      "{'comida': 'Spam', 'quantidade': '4', 'cor': 'rosa'}\n",
      "{'comida': 'Spam', 'quantidade': '4', 'cor': 'vermelho'}\n"
     ]
    },
    {
     "ename": "KeyError",
     "evalue": "'name'",
     "output_type": "error",
     "traceback": [
      "\u001b[1;31m---------------------------------------------------------------------------\u001b[0m",
      "\u001b[1;31mKeyError\u001b[0m                                  Traceback (most recent call last)",
      "Cell \u001b[1;32mIn[1], line 16\u001b[0m\n\u001b[0;32m     13\u001b[0m \u001b[38;5;28mprint\u001b[39m(d) \u001b[38;5;66;03m# {'comida':'Spam','quantidade':4,'cor':'vermelho'}\u001b[39;00m\n\u001b[0;32m     15\u001b[0m \u001b[38;5;66;03m# Acesso ao elemento.\u001b[39;00m\n\u001b[1;32m---> 16\u001b[0m \u001b[38;5;28mprint\u001b[39m(\u001b[43md\u001b[49m\u001b[43m[\u001b[49m\u001b[38;5;124;43m'\u001b[39;49m\u001b[38;5;124;43mname\u001b[39;49m\u001b[38;5;124;43m'\u001b[39;49m\u001b[43m]\u001b[49m) \u001b[38;5;66;03m# O elemento name nao existe. Programa termina com erro.\u001b[39;00m\n\u001b[0;32m     17\u001b[0m \u001b[38;5;28mprint\u001b[39m(d\u001b[38;5;241m.\u001b[39mget(\u001b[38;5;124m'\u001b[39m\u001b[38;5;124mname\u001b[39m\u001b[38;5;124m'\u001b[39m)) \u001b[38;5;66;03m# Saída: None\u001b[39;00m\n\u001b[0;32m     18\u001b[0m \u001b[38;5;28mprint\u001b[39m(d\u001b[38;5;241m.\u001b[39mget(\u001b[38;5;124m'\u001b[39m\u001b[38;5;124mname\u001b[39m\u001b[38;5;124m'\u001b[39m,\u001b[38;5;124m'\u001b[39m\u001b[38;5;124mO valor da chave não existe.\u001b[39m\u001b[38;5;124m'\u001b[39m)) \u001b[38;5;66;03m# Saída: O valor da chave não existe.\u001b[39;00m\n",
      "\u001b[1;31mKeyError\u001b[0m: 'name'"
     ]
    }
   ],
   "source": [
    "# Três formas de operações de atribuição de valores em dicionários.\n",
    "x = {'comida':'Spam','quantidade':4,'cor':'rosa'}\n",
    "print(x)\n",
    "X =dict(comida='Spam',quantidade=4, cor='rosa')\n",
    "print(X)\n",
    "x = dict([(\"comida\", \"Spam\"),(\"quantidade\", \"4\"),(\"cor\",\"rosa\")])\n",
    "print(x)\n",
    "\n",
    "# dict.copy(): Copia dados.\n",
    "d =x.copy()\n",
    "d['cor'] = 'vermelho'\n",
    "print(x) # {'comida':'Spam','quantidade':4,'cor':'rosa'}\n",
    "print(d) # {'comida':'Spam','quantidade':4,'cor':'vermelho'}\n",
    "\n",
    "# Acesso ao elemento.\n",
    "print(d['name']) # O elemento name nao existe. Programa termina com erro.\n",
    "print(d.get('name')) # Saída: None\n",
    "print(d.get('name','O valor da chave não existe.')) # Saída: O valor da chave não existe.\n",
    "print(d.keys()) # Saída: dict_keys(['comida', 'quantidade', 'cor'])\n",
    "print(d.values()) # Saída: dict_values(['Spam', 4, 'red'])\n",
    "print(d.items()) # Saída: dict_items([('comida', 'Spam'), ('quantidade', 4), ('cor', 'vermelho')])\n",
    "\n",
    "d.clear() # Limpa todos os dados do dicionário.\n",
    "print(d) # Saída: {}\n",
    "del(d) # Exclui o dicionário.\n",
    "print(d) # O programa está anormal e uma mensagem é exibida, indicando que d não está definido."
   ]
  }
 ],
 "metadata": {
  "kernelspec": {
   "display_name": "Python 3",
   "language": "python",
   "name": "python3"
  },
  "language_info": {
   "codemirror_mode": {
    "name": "ipython",
    "version": 3
   },
   "file_extension": ".py",
   "mimetype": "text/x-python",
   "name": "python",
   "nbconvert_exporter": "python",
   "pygments_lexer": "ipython3",
   "version": "3.12.1"
  }
 },
 "nbformat": 4,
 "nbformat_minor": 2
}
