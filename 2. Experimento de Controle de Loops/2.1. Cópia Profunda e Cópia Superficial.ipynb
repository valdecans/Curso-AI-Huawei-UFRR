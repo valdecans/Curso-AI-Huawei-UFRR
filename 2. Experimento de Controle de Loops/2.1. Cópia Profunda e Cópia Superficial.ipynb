{
 "cells": [
  {
   "cell_type": "markdown",
   "metadata": {},
   "source": [
    "## 2.1. Cópia Profunda e Cópia Superficial"
   ]
  },
  {
   "cell_type": "markdown",
   "metadata": {},
   "source": [
    "O módulo copy em Python é usado para implementar cópia profunda."
   ]
  },
  {
   "cell_type": "code",
   "execution_count": 1,
   "metadata": {},
   "outputs": [
    {
     "name": "stdout",
     "output_type": "stream",
     "text": [
      "Dict1:{'name': 'lee', 'age': 89, 'num': [1, 6, 8]}\n",
      "  Dict_copy:{'name': 'lee', 'age': 89, 'num': [1, 6, 8]}\n",
      "  Dict_dcopy:{'name': 'lee', 'age': 89, 'num': [1, 2, 8]}\n"
     ]
    }
   ],
   "source": [
    "import copy\n",
    "Dict1 = {'name':'lee', 'age':89, 'num':[1,2,8]} # Crie um dicionário.\n",
    "Dict_copy = Dict1.copy() # Cópia superficial.\n",
    "Dict_dcopy = copy.deepcopy(Dict1) # Cópia profunda.\n",
    "Dict1['num'][1] = 6 # Altere o valor da lista aninhada no dados originais.\n",
    "print('Dict1:'+str(Dict1)+\"\\n\",' Dict_copy:'+ str(Dict_copy)+\"\\n\",' Dict_dcopy:'+ str(Dict_dcopy))\n",
    "\n",
    "###Percebam que Dict_copy foi alterado assim como o dicionário original Dict1 onde foi feita a Cópia superficial."
   ]
  }
 ],
 "metadata": {
  "kernelspec": {
   "display_name": "Python 3",
   "language": "python",
   "name": "python3"
  },
  "language_info": {
   "codemirror_mode": {
    "name": "ipython",
    "version": 3
   },
   "file_extension": ".py",
   "mimetype": "text/x-python",
   "name": "python",
   "nbconvert_exporter": "python",
   "pygments_lexer": "ipython3",
   "version": "3.12.1"
  }
 },
 "nbformat": 4,
 "nbformat_minor": 2
}
